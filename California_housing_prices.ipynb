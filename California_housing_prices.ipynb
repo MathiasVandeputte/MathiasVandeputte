{
 "cells": [
  {
   "cell_type": "markdown",
   "id": "de3c392e-e705-495f-8a5a-26d2d9420852",
   "metadata": {},
   "source": [
    "# Project 2: Analyzing Housing Prices "
   ]
  },
  {
   "cell_type": "markdown",
   "id": "292fba77-b8fb-4ecb-a490-2168e07b9b69",
   "metadata": {},
   "source": [
    "I am going to import a dataset from Kaggle with Californian house prices from the year 1990."
   ]
  },
  {
   "cell_type": "markdown",
   "id": "67f915e8-e726-4e73-b00d-5fbf9fa119c1",
   "metadata": {},
   "source": [
    "I will first clean the dataset so I can analyze and visualize the data later. First and foremost we will import the necessary libraries."
   ]
  },
  {
   "cell_type": "code",
   "execution_count": 1,
   "id": "aaec960f-2012-436f-a121-c839186b097e",
   "metadata": {
    "tags": []
   },
   "outputs": [],
   "source": [
    "import pandas as pd\n",
    "import numpy as np\n",
    "import matplotlib.pyplot as plt"
   ]
  },
  {
   "cell_type": "markdown",
   "id": "8fd12452-2057-4746-bebe-bacd13794603",
   "metadata": {
    "tags": []
   },
   "source": [
    "Next we will import the dataset and pull it into a dataframe."
   ]
  },
  {
   "cell_type": "code",
   "execution_count": 2,
   "id": "753d3218-f56f-4bd8-9171-07f96a5426fc",
   "metadata": {
    "tags": []
   },
   "outputs": [],
   "source": [
    "\n",
    "df = pd.read_csv(r\"C:\\Users\\mvdp1\\OneDrive\\Documenten\\GitHub\\seaborn-data 3\\housing.csv\")"
   ]
  },
  {
   "cell_type": "markdown",
   "id": "fc34eddb-45c7-420c-a76c-285c6f1e14fd",
   "metadata": {},
   "source": [
    " "
   ]
  },
  {
   "cell_type": "markdown",
   "id": "4e16b5cf-4de8-489b-a60d-27dd39905519",
   "metadata": {},
   "source": [
    "### Data cleaning"
   ]
  },
  {
   "cell_type": "markdown",
   "id": "36554b1e-b1d5-4ede-ae12-b855d3c4338c",
   "metadata": {},
   "source": [
    "Time to take a look at our newly created dataframe."
   ]
  },
  {
   "cell_type": "code",
   "execution_count": 3,
   "id": "1290a3a3-7462-43e9-8069-72529b17adf2",
   "metadata": {
    "tags": []
   },
   "outputs": [
    {
     "data": {
      "text/html": [
       "<div>\n",
       "<style scoped>\n",
       "    .dataframe tbody tr th:only-of-type {\n",
       "        vertical-align: middle;\n",
       "    }\n",
       "\n",
       "    .dataframe tbody tr th {\n",
       "        vertical-align: top;\n",
       "    }\n",
       "\n",
       "    .dataframe thead th {\n",
       "        text-align: right;\n",
       "    }\n",
       "</style>\n",
       "<table border=\"1\" class=\"dataframe\">\n",
       "  <thead>\n",
       "    <tr style=\"text-align: right;\">\n",
       "      <th></th>\n",
       "      <th>longitude</th>\n",
       "      <th>latitude</th>\n",
       "      <th>housing_median_age</th>\n",
       "      <th>total_rooms</th>\n",
       "      <th>total_bedrooms</th>\n",
       "      <th>population</th>\n",
       "      <th>households</th>\n",
       "      <th>median_income</th>\n",
       "      <th>median_house_value</th>\n",
       "      <th>ocean_proximity</th>\n",
       "    </tr>\n",
       "  </thead>\n",
       "  <tbody>\n",
       "    <tr>\n",
       "      <th>0</th>\n",
       "      <td>-122.23</td>\n",
       "      <td>37.88</td>\n",
       "      <td>41.0</td>\n",
       "      <td>880.0</td>\n",
       "      <td>129.0</td>\n",
       "      <td>322.0</td>\n",
       "      <td>126.0</td>\n",
       "      <td>8.3252</td>\n",
       "      <td>452600.0</td>\n",
       "      <td>NEAR BAY</td>\n",
       "    </tr>\n",
       "    <tr>\n",
       "      <th>1</th>\n",
       "      <td>-122.22</td>\n",
       "      <td>37.86</td>\n",
       "      <td>21.0</td>\n",
       "      <td>7099.0</td>\n",
       "      <td>1106.0</td>\n",
       "      <td>2401.0</td>\n",
       "      <td>1138.0</td>\n",
       "      <td>8.3014</td>\n",
       "      <td>358500.0</td>\n",
       "      <td>NEAR BAY</td>\n",
       "    </tr>\n",
       "    <tr>\n",
       "      <th>2</th>\n",
       "      <td>-122.24</td>\n",
       "      <td>37.85</td>\n",
       "      <td>52.0</td>\n",
       "      <td>1467.0</td>\n",
       "      <td>190.0</td>\n",
       "      <td>496.0</td>\n",
       "      <td>177.0</td>\n",
       "      <td>7.2574</td>\n",
       "      <td>352100.0</td>\n",
       "      <td>NEAR BAY</td>\n",
       "    </tr>\n",
       "    <tr>\n",
       "      <th>3</th>\n",
       "      <td>-122.25</td>\n",
       "      <td>37.85</td>\n",
       "      <td>52.0</td>\n",
       "      <td>1274.0</td>\n",
       "      <td>235.0</td>\n",
       "      <td>558.0</td>\n",
       "      <td>219.0</td>\n",
       "      <td>5.6431</td>\n",
       "      <td>341300.0</td>\n",
       "      <td>NEAR BAY</td>\n",
       "    </tr>\n",
       "    <tr>\n",
       "      <th>4</th>\n",
       "      <td>-122.25</td>\n",
       "      <td>37.85</td>\n",
       "      <td>52.0</td>\n",
       "      <td>1627.0</td>\n",
       "      <td>280.0</td>\n",
       "      <td>565.0</td>\n",
       "      <td>259.0</td>\n",
       "      <td>3.8462</td>\n",
       "      <td>342200.0</td>\n",
       "      <td>NEAR BAY</td>\n",
       "    </tr>\n",
       "    <tr>\n",
       "      <th>...</th>\n",
       "      <td>...</td>\n",
       "      <td>...</td>\n",
       "      <td>...</td>\n",
       "      <td>...</td>\n",
       "      <td>...</td>\n",
       "      <td>...</td>\n",
       "      <td>...</td>\n",
       "      <td>...</td>\n",
       "      <td>...</td>\n",
       "      <td>...</td>\n",
       "    </tr>\n",
       "    <tr>\n",
       "      <th>20635</th>\n",
       "      <td>-121.09</td>\n",
       "      <td>39.48</td>\n",
       "      <td>25.0</td>\n",
       "      <td>1665.0</td>\n",
       "      <td>374.0</td>\n",
       "      <td>845.0</td>\n",
       "      <td>330.0</td>\n",
       "      <td>1.5603</td>\n",
       "      <td>78100.0</td>\n",
       "      <td>INLAND</td>\n",
       "    </tr>\n",
       "    <tr>\n",
       "      <th>20636</th>\n",
       "      <td>-121.21</td>\n",
       "      <td>39.49</td>\n",
       "      <td>18.0</td>\n",
       "      <td>697.0</td>\n",
       "      <td>150.0</td>\n",
       "      <td>356.0</td>\n",
       "      <td>114.0</td>\n",
       "      <td>2.5568</td>\n",
       "      <td>77100.0</td>\n",
       "      <td>INLAND</td>\n",
       "    </tr>\n",
       "    <tr>\n",
       "      <th>20637</th>\n",
       "      <td>-121.22</td>\n",
       "      <td>39.43</td>\n",
       "      <td>17.0</td>\n",
       "      <td>2254.0</td>\n",
       "      <td>485.0</td>\n",
       "      <td>1007.0</td>\n",
       "      <td>433.0</td>\n",
       "      <td>1.7000</td>\n",
       "      <td>92300.0</td>\n",
       "      <td>INLAND</td>\n",
       "    </tr>\n",
       "    <tr>\n",
       "      <th>20638</th>\n",
       "      <td>-121.32</td>\n",
       "      <td>39.43</td>\n",
       "      <td>18.0</td>\n",
       "      <td>1860.0</td>\n",
       "      <td>409.0</td>\n",
       "      <td>741.0</td>\n",
       "      <td>349.0</td>\n",
       "      <td>1.8672</td>\n",
       "      <td>84700.0</td>\n",
       "      <td>INLAND</td>\n",
       "    </tr>\n",
       "    <tr>\n",
       "      <th>20639</th>\n",
       "      <td>-121.24</td>\n",
       "      <td>39.37</td>\n",
       "      <td>16.0</td>\n",
       "      <td>2785.0</td>\n",
       "      <td>616.0</td>\n",
       "      <td>1387.0</td>\n",
       "      <td>530.0</td>\n",
       "      <td>2.3886</td>\n",
       "      <td>89400.0</td>\n",
       "      <td>INLAND</td>\n",
       "    </tr>\n",
       "  </tbody>\n",
       "</table>\n",
       "<p>20640 rows × 10 columns</p>\n",
       "</div>"
      ],
      "text/plain": [
       "       longitude  latitude  housing_median_age  total_rooms  total_bedrooms  \\\n",
       "0        -122.23     37.88                41.0        880.0           129.0   \n",
       "1        -122.22     37.86                21.0       7099.0          1106.0   \n",
       "2        -122.24     37.85                52.0       1467.0           190.0   \n",
       "3        -122.25     37.85                52.0       1274.0           235.0   \n",
       "4        -122.25     37.85                52.0       1627.0           280.0   \n",
       "...          ...       ...                 ...          ...             ...   \n",
       "20635    -121.09     39.48                25.0       1665.0           374.0   \n",
       "20636    -121.21     39.49                18.0        697.0           150.0   \n",
       "20637    -121.22     39.43                17.0       2254.0           485.0   \n",
       "20638    -121.32     39.43                18.0       1860.0           409.0   \n",
       "20639    -121.24     39.37                16.0       2785.0           616.0   \n",
       "\n",
       "       population  households  median_income  median_house_value  \\\n",
       "0           322.0       126.0         8.3252            452600.0   \n",
       "1          2401.0      1138.0         8.3014            358500.0   \n",
       "2           496.0       177.0         7.2574            352100.0   \n",
       "3           558.0       219.0         5.6431            341300.0   \n",
       "4           565.0       259.0         3.8462            342200.0   \n",
       "...           ...         ...            ...                 ...   \n",
       "20635       845.0       330.0         1.5603             78100.0   \n",
       "20636       356.0       114.0         2.5568             77100.0   \n",
       "20637      1007.0       433.0         1.7000             92300.0   \n",
       "20638       741.0       349.0         1.8672             84700.0   \n",
       "20639      1387.0       530.0         2.3886             89400.0   \n",
       "\n",
       "      ocean_proximity  \n",
       "0            NEAR BAY  \n",
       "1            NEAR BAY  \n",
       "2            NEAR BAY  \n",
       "3            NEAR BAY  \n",
       "4            NEAR BAY  \n",
       "...               ...  \n",
       "20635          INLAND  \n",
       "20636          INLAND  \n",
       "20637          INLAND  \n",
       "20638          INLAND  \n",
       "20639          INLAND  \n",
       "\n",
       "[20640 rows x 10 columns]"
      ]
     },
     "execution_count": 3,
     "metadata": {},
     "output_type": "execute_result"
    }
   ],
   "source": [
    "df"
   ]
  },
  {
   "cell_type": "code",
   "execution_count": 4,
   "id": "58910855-130f-4656-84f2-8182efeb04b0",
   "metadata": {
    "tags": []
   },
   "outputs": [
    {
     "name": "stdout",
     "output_type": "stream",
     "text": [
      "<class 'pandas.core.frame.DataFrame'>\n",
      "RangeIndex: 20640 entries, 0 to 20639\n",
      "Data columns (total 10 columns):\n",
      " #   Column              Non-Null Count  Dtype  \n",
      "---  ------              --------------  -----  \n",
      " 0   longitude           20640 non-null  float64\n",
      " 1   latitude            20640 non-null  float64\n",
      " 2   housing_median_age  20640 non-null  float64\n",
      " 3   total_rooms         20640 non-null  float64\n",
      " 4   total_bedrooms      20433 non-null  float64\n",
      " 5   population          20640 non-null  float64\n",
      " 6   households          20640 non-null  float64\n",
      " 7   median_income       20640 non-null  float64\n",
      " 8   median_house_value  20640 non-null  float64\n",
      " 9   ocean_proximity     20640 non-null  object \n",
      "dtypes: float64(9), object(1)\n",
      "memory usage: 1.6+ MB\n"
     ]
    }
   ],
   "source": [
    "df.info()"
   ]
  },
  {
   "cell_type": "markdown",
   "id": "6245c473-b817-4e43-bf67-8200a6e24b35",
   "metadata": {
    "tags": []
   },
   "source": [
    "The data is pretty much free of NaN values except in the total_bedrooms column. All columns are stored as float except the last column which is stored as string."
   ]
  },
  {
   "cell_type": "markdown",
   "id": "5ac1b99e-1c1d-4469-a0ea-3ea54e2e4e73",
   "metadata": {
    "tags": []
   },
   "source": [
    "Lets remove the NaN values."
   ]
  },
  {
   "cell_type": "code",
   "execution_count": 5,
   "id": "f32ff7b6-7641-42c8-9dd8-de159cd09a59",
   "metadata": {
    "tags": []
   },
   "outputs": [],
   "source": [
    "df.dropna(inplace=True)"
   ]
  },
  {
   "cell_type": "code",
   "execution_count": 6,
   "id": "03bf7f11-6279-4486-b939-d0ed1f07088d",
   "metadata": {
    "tags": []
   },
   "outputs": [
    {
     "data": {
      "text/plain": [
       "20433"
      ]
     },
     "execution_count": 6,
     "metadata": {},
     "output_type": "execute_result"
    }
   ],
   "source": [
    "df.shape[0]"
   ]
  },
  {
   "cell_type": "markdown",
   "id": "178b2a18-6185-430e-9c2d-a2ff5f05f711",
   "metadata": {
    "tags": []
   },
   "source": [
    "When applying the shape function we can see that the rows with NaN values have been removed."
   ]
  },
  {
   "cell_type": "markdown",
   "id": "33a39336-6970-4023-ba7a-7921497a8942",
   "metadata": {},
   "source": [
    "Next we will give our index a name: \"House_ID\""
   ]
  },
  {
   "cell_type": "code",
   "execution_count": 7,
   "id": "3ea9c220-8bbb-42ae-8d5f-f481ffa58dac",
   "metadata": {
    "tags": []
   },
   "outputs": [],
   "source": [
    "df = df.rename_axis('House_ID')"
   ]
  },
  {
   "cell_type": "markdown",
   "id": "2f2f691c-330a-41e5-968a-3187b16b3ad2",
   "metadata": {},
   "source": [
    "Then I will remove the 2 columns that I wont be analyzing later. those are \"longitude\" and \"latitude\"."
   ]
  },
  {
   "cell_type": "code",
   "execution_count": 8,
   "id": "e4dde7c0-c8b9-4c03-a1a7-6af2acc1204d",
   "metadata": {
    "tags": []
   },
   "outputs": [],
   "source": [
    "df.drop(columns= ['longitude', 'latitude'], inplace=True)"
   ]
  },
  {
   "cell_type": "markdown",
   "id": "186c81e9-a232-4b0e-98b7-63ca11a4a62a",
   "metadata": {},
   "source": [
    "Next we'll split the majority of column in 5 quantiles. <br> \n",
    "We'll use the pandas qcut function to get this done. This will also automatically change the datatype from float to category. <br> The big advantage of categorizing the values is that we can more easily group on them. "
   ]
  },
  {
   "cell_type": "code",
   "execution_count": 9,
   "id": "8621bf4c-266b-4b58-8c95-116c6ad72fb1",
   "metadata": {
    "tags": []
   },
   "outputs": [],
   "source": [
    "\n",
    "columns_to_exclude = ['median_house_value', 'ocean_proximity']\n",
    "\n",
    "\n",
    "for col in df.columns:\n",
    "    if col not in columns_to_exclude:\n",
    "       df[col] = pd.qcut(df[col], q=5, labels=[0, 0.25, 0.50, 0.75, 1])\n",
    "\n"
   ]
  },
  {
   "cell_type": "code",
   "execution_count": 10,
   "id": "491d63f5-8faf-4156-99fe-a8b57fc8cd46",
   "metadata": {
    "tags": []
   },
   "outputs": [
    {
     "data": {
      "text/html": [
       "<div>\n",
       "<style scoped>\n",
       "    .dataframe tbody tr th:only-of-type {\n",
       "        vertical-align: middle;\n",
       "    }\n",
       "\n",
       "    .dataframe tbody tr th {\n",
       "        vertical-align: top;\n",
       "    }\n",
       "\n",
       "    .dataframe thead th {\n",
       "        text-align: right;\n",
       "    }\n",
       "</style>\n",
       "<table border=\"1\" class=\"dataframe\">\n",
       "  <thead>\n",
       "    <tr style=\"text-align: right;\">\n",
       "      <th></th>\n",
       "      <th>housing_median_age</th>\n",
       "      <th>total_rooms</th>\n",
       "      <th>total_bedrooms</th>\n",
       "      <th>population</th>\n",
       "      <th>households</th>\n",
       "      <th>median_income</th>\n",
       "      <th>median_house_value</th>\n",
       "      <th>ocean_proximity</th>\n",
       "    </tr>\n",
       "    <tr>\n",
       "      <th>House_ID</th>\n",
       "      <th></th>\n",
       "      <th></th>\n",
       "      <th></th>\n",
       "      <th></th>\n",
       "      <th></th>\n",
       "      <th></th>\n",
       "      <th></th>\n",
       "      <th></th>\n",
       "    </tr>\n",
       "  </thead>\n",
       "  <tbody>\n",
       "    <tr>\n",
       "      <th>0</th>\n",
       "      <td>1.00</td>\n",
       "      <td>0.00</td>\n",
       "      <td>0.00</td>\n",
       "      <td>0.00</td>\n",
       "      <td>0.00</td>\n",
       "      <td>1.00</td>\n",
       "      <td>452600.0</td>\n",
       "      <td>NEAR BAY</td>\n",
       "    </tr>\n",
       "    <tr>\n",
       "      <th>1</th>\n",
       "      <td>0.25</td>\n",
       "      <td>1.00</td>\n",
       "      <td>1.00</td>\n",
       "      <td>1.00</td>\n",
       "      <td>1.00</td>\n",
       "      <td>1.00</td>\n",
       "      <td>358500.0</td>\n",
       "      <td>NEAR BAY</td>\n",
       "    </tr>\n",
       "    <tr>\n",
       "      <th>2</th>\n",
       "      <td>1.00</td>\n",
       "      <td>0.25</td>\n",
       "      <td>0.00</td>\n",
       "      <td>0.00</td>\n",
       "      <td>0.00</td>\n",
       "      <td>1.00</td>\n",
       "      <td>352100.0</td>\n",
       "      <td>NEAR BAY</td>\n",
       "    </tr>\n",
       "    <tr>\n",
       "      <th>3</th>\n",
       "      <td>1.00</td>\n",
       "      <td>0.00</td>\n",
       "      <td>0.00</td>\n",
       "      <td>0.00</td>\n",
       "      <td>0.00</td>\n",
       "      <td>1.00</td>\n",
       "      <td>341300.0</td>\n",
       "      <td>NEAR BAY</td>\n",
       "    </tr>\n",
       "    <tr>\n",
       "      <th>4</th>\n",
       "      <td>1.00</td>\n",
       "      <td>0.25</td>\n",
       "      <td>0.25</td>\n",
       "      <td>0.00</td>\n",
       "      <td>0.25</td>\n",
       "      <td>0.50</td>\n",
       "      <td>342200.0</td>\n",
       "      <td>NEAR BAY</td>\n",
       "    </tr>\n",
       "    <tr>\n",
       "      <th>...</th>\n",
       "      <td>...</td>\n",
       "      <td>...</td>\n",
       "      <td>...</td>\n",
       "      <td>...</td>\n",
       "      <td>...</td>\n",
       "      <td>...</td>\n",
       "      <td>...</td>\n",
       "      <td>...</td>\n",
       "    </tr>\n",
       "    <tr>\n",
       "      <th>20635</th>\n",
       "      <td>0.25</td>\n",
       "      <td>0.25</td>\n",
       "      <td>0.25</td>\n",
       "      <td>0.25</td>\n",
       "      <td>0.25</td>\n",
       "      <td>0.00</td>\n",
       "      <td>78100.0</td>\n",
       "      <td>INLAND</td>\n",
       "    </tr>\n",
       "    <tr>\n",
       "      <th>20636</th>\n",
       "      <td>0.25</td>\n",
       "      <td>0.00</td>\n",
       "      <td>0.00</td>\n",
       "      <td>0.00</td>\n",
       "      <td>0.00</td>\n",
       "      <td>0.25</td>\n",
       "      <td>77100.0</td>\n",
       "      <td>INLAND</td>\n",
       "    </tr>\n",
       "    <tr>\n",
       "      <th>20637</th>\n",
       "      <td>0.00</td>\n",
       "      <td>0.50</td>\n",
       "      <td>0.50</td>\n",
       "      <td>0.25</td>\n",
       "      <td>0.50</td>\n",
       "      <td>0.00</td>\n",
       "      <td>92300.0</td>\n",
       "      <td>INLAND</td>\n",
       "    </tr>\n",
       "    <tr>\n",
       "      <th>20638</th>\n",
       "      <td>0.25</td>\n",
       "      <td>0.50</td>\n",
       "      <td>0.50</td>\n",
       "      <td>0.25</td>\n",
       "      <td>0.25</td>\n",
       "      <td>0.00</td>\n",
       "      <td>84700.0</td>\n",
       "      <td>INLAND</td>\n",
       "    </tr>\n",
       "    <tr>\n",
       "      <th>20639</th>\n",
       "      <td>0.00</td>\n",
       "      <td>0.75</td>\n",
       "      <td>0.75</td>\n",
       "      <td>0.75</td>\n",
       "      <td>0.75</td>\n",
       "      <td>0.25</td>\n",
       "      <td>89400.0</td>\n",
       "      <td>INLAND</td>\n",
       "    </tr>\n",
       "  </tbody>\n",
       "</table>\n",
       "<p>20433 rows × 8 columns</p>\n",
       "</div>"
      ],
      "text/plain": [
       "         housing_median_age total_rooms total_bedrooms population households  \\\n",
       "House_ID                                                                       \n",
       "0                      1.00        0.00           0.00       0.00       0.00   \n",
       "1                      0.25        1.00           1.00       1.00       1.00   \n",
       "2                      1.00        0.25           0.00       0.00       0.00   \n",
       "3                      1.00        0.00           0.00       0.00       0.00   \n",
       "4                      1.00        0.25           0.25       0.00       0.25   \n",
       "...                     ...         ...            ...        ...        ...   \n",
       "20635                  0.25        0.25           0.25       0.25       0.25   \n",
       "20636                  0.25        0.00           0.00       0.00       0.00   \n",
       "20637                  0.00        0.50           0.50       0.25       0.50   \n",
       "20638                  0.25        0.50           0.50       0.25       0.25   \n",
       "20639                  0.00        0.75           0.75       0.75       0.75   \n",
       "\n",
       "         median_income  median_house_value ocean_proximity  \n",
       "House_ID                                                    \n",
       "0                 1.00            452600.0        NEAR BAY  \n",
       "1                 1.00            358500.0        NEAR BAY  \n",
       "2                 1.00            352100.0        NEAR BAY  \n",
       "3                 1.00            341300.0        NEAR BAY  \n",
       "4                 0.50            342200.0        NEAR BAY  \n",
       "...                ...                 ...             ...  \n",
       "20635             0.00             78100.0          INLAND  \n",
       "20636             0.25             77100.0          INLAND  \n",
       "20637             0.00             92300.0          INLAND  \n",
       "20638             0.00             84700.0          INLAND  \n",
       "20639             0.25             89400.0          INLAND  \n",
       "\n",
       "[20433 rows x 8 columns]"
      ]
     },
     "execution_count": 10,
     "metadata": {},
     "output_type": "execute_result"
    }
   ],
   "source": [
    "df"
   ]
  },
  {
   "cell_type": "markdown",
   "id": "d0828f54-6457-4f2b-9914-1e75b3137755",
   "metadata": {},
   "source": [
    "Using the dtypes function we can see that the column are indeed casted to category."
   ]
  },
  {
   "cell_type": "code",
   "execution_count": 11,
   "id": "1b92d426-5760-4399-bb27-e21a6a7429c4",
   "metadata": {
    "tags": []
   },
   "outputs": [
    {
     "data": {
      "text/html": [
       "<div>\n",
       "<style scoped>\n",
       "    .dataframe tbody tr th:only-of-type {\n",
       "        vertical-align: middle;\n",
       "    }\n",
       "\n",
       "    .dataframe tbody tr th {\n",
       "        vertical-align: top;\n",
       "    }\n",
       "\n",
       "    .dataframe thead th {\n",
       "        text-align: right;\n",
       "    }\n",
       "</style>\n",
       "<table border=\"1\" class=\"dataframe\">\n",
       "  <thead>\n",
       "    <tr style=\"text-align: right;\">\n",
       "      <th></th>\n",
       "      <th>0</th>\n",
       "    </tr>\n",
       "  </thead>\n",
       "  <tbody>\n",
       "    <tr>\n",
       "      <th>housing_median_age</th>\n",
       "      <td>category</td>\n",
       "    </tr>\n",
       "    <tr>\n",
       "      <th>total_rooms</th>\n",
       "      <td>category</td>\n",
       "    </tr>\n",
       "    <tr>\n",
       "      <th>total_bedrooms</th>\n",
       "      <td>category</td>\n",
       "    </tr>\n",
       "    <tr>\n",
       "      <th>population</th>\n",
       "      <td>category</td>\n",
       "    </tr>\n",
       "    <tr>\n",
       "      <th>households</th>\n",
       "      <td>category</td>\n",
       "    </tr>\n",
       "    <tr>\n",
       "      <th>median_income</th>\n",
       "      <td>category</td>\n",
       "    </tr>\n",
       "    <tr>\n",
       "      <th>median_house_value</th>\n",
       "      <td>float64</td>\n",
       "    </tr>\n",
       "    <tr>\n",
       "      <th>ocean_proximity</th>\n",
       "      <td>object</td>\n",
       "    </tr>\n",
       "  </tbody>\n",
       "</table>\n",
       "</div>"
      ],
      "text/plain": [
       "                           0\n",
       "housing_median_age  category\n",
       "total_rooms         category\n",
       "total_bedrooms      category\n",
       "population          category\n",
       "households          category\n",
       "median_income       category\n",
       "median_house_value   float64\n",
       "ocean_proximity       object"
      ]
     },
     "execution_count": 11,
     "metadata": {},
     "output_type": "execute_result"
    }
   ],
   "source": [
    "df.dtypes.to_frame()"
   ]
  },
  {
   "cell_type": "markdown",
   "id": "226346d0-7f63-477f-8fe3-526b6da73240",
   "metadata": {},
   "source": [
    "Although I actually do prefer my columns to be stored as float so I can aggregate on them too. So lets cast them back to float."
   ]
  },
  {
   "cell_type": "code",
   "execution_count": 12,
   "id": "e140c79a-aae6-4ad1-87bb-dbcd816a29c4",
   "metadata": {
    "tags": []
   },
   "outputs": [],
   "source": [
    "columns_to_cast = ['housing_median_age', 'total_rooms', 'total_bedrooms', 'population', 'households', 'median_income']\n",
    "\n",
    "df[columns_to_cast] = df[columns_to_cast].astype(float)\n"
   ]
  },
  {
   "cell_type": "code",
   "execution_count": 13,
   "id": "142d2d3f-fb1e-40dd-b6f7-5a55fbbbc9a6",
   "metadata": {
    "tags": []
   },
   "outputs": [
    {
     "data": {
      "text/html": [
       "<div>\n",
       "<style scoped>\n",
       "    .dataframe tbody tr th:only-of-type {\n",
       "        vertical-align: middle;\n",
       "    }\n",
       "\n",
       "    .dataframe tbody tr th {\n",
       "        vertical-align: top;\n",
       "    }\n",
       "\n",
       "    .dataframe thead th {\n",
       "        text-align: right;\n",
       "    }\n",
       "</style>\n",
       "<table border=\"1\" class=\"dataframe\">\n",
       "  <thead>\n",
       "    <tr style=\"text-align: right;\">\n",
       "      <th></th>\n",
       "      <th>0</th>\n",
       "    </tr>\n",
       "  </thead>\n",
       "  <tbody>\n",
       "    <tr>\n",
       "      <th>housing_median_age</th>\n",
       "      <td>float64</td>\n",
       "    </tr>\n",
       "    <tr>\n",
       "      <th>total_rooms</th>\n",
       "      <td>float64</td>\n",
       "    </tr>\n",
       "    <tr>\n",
       "      <th>total_bedrooms</th>\n",
       "      <td>float64</td>\n",
       "    </tr>\n",
       "    <tr>\n",
       "      <th>population</th>\n",
       "      <td>float64</td>\n",
       "    </tr>\n",
       "    <tr>\n",
       "      <th>households</th>\n",
       "      <td>float64</td>\n",
       "    </tr>\n",
       "    <tr>\n",
       "      <th>median_income</th>\n",
       "      <td>float64</td>\n",
       "    </tr>\n",
       "    <tr>\n",
       "      <th>median_house_value</th>\n",
       "      <td>float64</td>\n",
       "    </tr>\n",
       "    <tr>\n",
       "      <th>ocean_proximity</th>\n",
       "      <td>object</td>\n",
       "    </tr>\n",
       "  </tbody>\n",
       "</table>\n",
       "</div>"
      ],
      "text/plain": [
       "                          0\n",
       "housing_median_age  float64\n",
       "total_rooms         float64\n",
       "total_bedrooms      float64\n",
       "population          float64\n",
       "households          float64\n",
       "median_income       float64\n",
       "median_house_value  float64\n",
       "ocean_proximity      object"
      ]
     },
     "execution_count": 13,
     "metadata": {},
     "output_type": "execute_result"
    }
   ],
   "source": [
    "df.dtypes.to_frame()"
   ]
  },
  {
   "cell_type": "markdown",
   "id": "3ad05df8-fb77-4c03-8950-f23a4727d511",
   "metadata": {
    "tags": []
   },
   "source": [
    "Ok that seems fine, Now I will create an additional column \"MHV_category\". <br> Thats an abbreviation for median house value category, which I will use to categorize median house values. Now we will be able to group on median house value aswell."
   ]
  },
  {
   "cell_type": "code",
   "execution_count": 14,
   "id": "1ea83f85-8f17-4517-a2f9-acf5131d3721",
   "metadata": {
    "tags": []
   },
   "outputs": [],
   "source": [
    "df['MHV_category'] = pd.qcut(df['median_house_value'], q=5, labels=[0, 0.25, 0.5, 0.75, 1])"
   ]
  },
  {
   "cell_type": "code",
   "execution_count": 15,
   "id": "ce0a197b-e39c-4e88-85e1-b7bba56d5ca3",
   "metadata": {
    "tags": []
   },
   "outputs": [
    {
     "data": {
      "text/html": [
       "<div>\n",
       "<style scoped>\n",
       "    .dataframe tbody tr th:only-of-type {\n",
       "        vertical-align: middle;\n",
       "    }\n",
       "\n",
       "    .dataframe tbody tr th {\n",
       "        vertical-align: top;\n",
       "    }\n",
       "\n",
       "    .dataframe thead th {\n",
       "        text-align: right;\n",
       "    }\n",
       "</style>\n",
       "<table border=\"1\" class=\"dataframe\">\n",
       "  <thead>\n",
       "    <tr style=\"text-align: right;\">\n",
       "      <th></th>\n",
       "      <th>proportion</th>\n",
       "    </tr>\n",
       "    <tr>\n",
       "      <th>MHV_category</th>\n",
       "      <th></th>\n",
       "    </tr>\n",
       "  </thead>\n",
       "  <tbody>\n",
       "    <tr>\n",
       "      <th>1.00</th>\n",
       "      <td>0.199971</td>\n",
       "    </tr>\n",
       "    <tr>\n",
       "      <th>0.75</th>\n",
       "      <td>0.199677</td>\n",
       "    </tr>\n",
       "    <tr>\n",
       "      <th>0.50</th>\n",
       "      <td>0.200117</td>\n",
       "    </tr>\n",
       "    <tr>\n",
       "      <th>0.25</th>\n",
       "      <td>0.199922</td>\n",
       "    </tr>\n",
       "    <tr>\n",
       "      <th>0.00</th>\n",
       "      <td>0.200313</td>\n",
       "    </tr>\n",
       "  </tbody>\n",
       "</table>\n",
       "</div>"
      ],
      "text/plain": [
       "              proportion\n",
       "MHV_category            \n",
       "1.00            0.199971\n",
       "0.75            0.199677\n",
       "0.50            0.200117\n",
       "0.25            0.199922\n",
       "0.00            0.200313"
      ]
     },
     "execution_count": 15,
     "metadata": {},
     "output_type": "execute_result"
    }
   ],
   "source": [
    "df.MHV_category.value_counts(normalize= True).to_frame().sort_index(ascending=False)"
   ]
  },
  {
   "cell_type": "markdown",
   "id": "8a368617-bc9d-4a57-a3a1-27561cc36a74",
   "metadata": {
    "tags": []
   },
   "source": [
    "using the value_counts function, we kan see taht the new column is devided in 5 equal parts of each 20%."
   ]
  },
  {
   "cell_type": "markdown",
   "id": "84d408bb-95d1-4089-877d-3ff95fb07c4d",
   "metadata": {},
   "source": [
    "Finally, we will adjust the column order."
   ]
  },
  {
   "cell_type": "code",
   "execution_count": 16,
   "id": "33343038-faa5-40cb-b263-a42f535ea0ea",
   "metadata": {
    "tags": []
   },
   "outputs": [],
   "source": [
    "columns = df.columns.tolist()\n",
    "\n",
    "\n",
    "columns[7], columns[6] = columns[6], columns[7]\n",
    "\n",
    "\n",
    "df = df[columns]\n"
   ]
  },
  {
   "cell_type": "markdown",
   "id": "11c0fd03-cd5e-4728-9361-acc356659a55",
   "metadata": {
    "tags": []
   },
   "source": [
    "Now the data is cleaned and ready to be analyzed."
   ]
  },
  {
   "cell_type": "markdown",
   "id": "83371ce0-46d1-43ca-ad35-abb8028683e5",
   "metadata": {},
   "source": [
    " "
   ]
  },
  {
   "cell_type": "markdown",
   "id": "c41e6687-18fb-443a-8ee9-6a4ba048f847",
   "metadata": {},
   "source": [
    "### The Analysis"
   ]
  },
  {
   "cell_type": "markdown",
   "id": "6786013f-20b6-4018-a879-83f6fa4a49ee",
   "metadata": {
    "tags": []
   },
   "source": [
    "We will start by taking a quick look at the most expensive and cheapest blocks of houses."
   ]
  },
  {
   "cell_type": "code",
   "execution_count": 17,
   "id": "5cde8464-4a37-483b-b5b6-7707eb68a913",
   "metadata": {
    "tags": []
   },
   "outputs": [
    {
     "data": {
      "text/html": [
       "<div>\n",
       "<style scoped>\n",
       "    .dataframe tbody tr th:only-of-type {\n",
       "        vertical-align: middle;\n",
       "    }\n",
       "\n",
       "    .dataframe tbody tr th {\n",
       "        vertical-align: top;\n",
       "    }\n",
       "\n",
       "    .dataframe thead th {\n",
       "        text-align: right;\n",
       "    }\n",
       "</style>\n",
       "<table border=\"1\" class=\"dataframe\">\n",
       "  <thead>\n",
       "    <tr style=\"text-align: right;\">\n",
       "      <th></th>\n",
       "      <th>housing_median_age</th>\n",
       "      <th>total_rooms</th>\n",
       "      <th>total_bedrooms</th>\n",
       "      <th>population</th>\n",
       "      <th>households</th>\n",
       "      <th>median_income</th>\n",
       "      <th>ocean_proximity</th>\n",
       "      <th>median_house_value</th>\n",
       "      <th>MHV_category</th>\n",
       "    </tr>\n",
       "    <tr>\n",
       "      <th>House_ID</th>\n",
       "      <th></th>\n",
       "      <th></th>\n",
       "      <th></th>\n",
       "      <th></th>\n",
       "      <th></th>\n",
       "      <th></th>\n",
       "      <th></th>\n",
       "      <th></th>\n",
       "      <th></th>\n",
       "    </tr>\n",
       "  </thead>\n",
       "  <tbody>\n",
       "    <tr>\n",
       "      <th>8852</th>\n",
       "      <td>1.00</td>\n",
       "      <td>0.50</td>\n",
       "      <td>0.00</td>\n",
       "      <td>0.25</td>\n",
       "      <td>0.00</td>\n",
       "      <td>1.00</td>\n",
       "      <td>&lt;1H OCEAN</td>\n",
       "      <td>500001.0</td>\n",
       "      <td>1.0</td>\n",
       "    </tr>\n",
       "    <tr>\n",
       "      <th>10454</th>\n",
       "      <td>0.25</td>\n",
       "      <td>0.00</td>\n",
       "      <td>0.00</td>\n",
       "      <td>0.00</td>\n",
       "      <td>0.00</td>\n",
       "      <td>0.25</td>\n",
       "      <td>&lt;1H OCEAN</td>\n",
       "      <td>500001.0</td>\n",
       "      <td>1.0</td>\n",
       "    </tr>\n",
       "    <tr>\n",
       "      <th>5487</th>\n",
       "      <td>0.50</td>\n",
       "      <td>0.75</td>\n",
       "      <td>1.00</td>\n",
       "      <td>0.50</td>\n",
       "      <td>1.00</td>\n",
       "      <td>1.00</td>\n",
       "      <td>&lt;1H OCEAN</td>\n",
       "      <td>500001.0</td>\n",
       "      <td>1.0</td>\n",
       "    </tr>\n",
       "    <tr>\n",
       "      <th>16020</th>\n",
       "      <td>1.00</td>\n",
       "      <td>0.25</td>\n",
       "      <td>0.00</td>\n",
       "      <td>0.00</td>\n",
       "      <td>0.00</td>\n",
       "      <td>1.00</td>\n",
       "      <td>NEAR OCEAN</td>\n",
       "      <td>500001.0</td>\n",
       "      <td>1.0</td>\n",
       "    </tr>\n",
       "    <tr>\n",
       "      <th>16019</th>\n",
       "      <td>1.00</td>\n",
       "      <td>0.50</td>\n",
       "      <td>0.25</td>\n",
       "      <td>0.25</td>\n",
       "      <td>0.25</td>\n",
       "      <td>1.00</td>\n",
       "      <td>NEAR OCEAN</td>\n",
       "      <td>500001.0</td>\n",
       "      <td>1.0</td>\n",
       "    </tr>\n",
       "    <tr>\n",
       "      <th>...</th>\n",
       "      <td>...</td>\n",
       "      <td>...</td>\n",
       "      <td>...</td>\n",
       "      <td>...</td>\n",
       "      <td>...</td>\n",
       "      <td>...</td>\n",
       "      <td>...</td>\n",
       "      <td>...</td>\n",
       "      <td>...</td>\n",
       "    </tr>\n",
       "    <tr>\n",
       "      <th>5887</th>\n",
       "      <td>0.75</td>\n",
       "      <td>0.00</td>\n",
       "      <td>0.00</td>\n",
       "      <td>0.00</td>\n",
       "      <td>0.00</td>\n",
       "      <td>0.25</td>\n",
       "      <td>&lt;1H OCEAN</td>\n",
       "      <td>17500.0</td>\n",
       "      <td>0.0</td>\n",
       "    </tr>\n",
       "    <tr>\n",
       "      <th>9188</th>\n",
       "      <td>1.00</td>\n",
       "      <td>0.00</td>\n",
       "      <td>0.00</td>\n",
       "      <td>0.00</td>\n",
       "      <td>0.00</td>\n",
       "      <td>0.75</td>\n",
       "      <td>INLAND</td>\n",
       "      <td>14999.0</td>\n",
       "      <td>0.0</td>\n",
       "    </tr>\n",
       "    <tr>\n",
       "      <th>2799</th>\n",
       "      <td>0.25</td>\n",
       "      <td>0.00</td>\n",
       "      <td>0.00</td>\n",
       "      <td>0.00</td>\n",
       "      <td>0.00</td>\n",
       "      <td>0.00</td>\n",
       "      <td>INLAND</td>\n",
       "      <td>14999.0</td>\n",
       "      <td>0.0</td>\n",
       "    </tr>\n",
       "    <tr>\n",
       "      <th>19802</th>\n",
       "      <td>0.75</td>\n",
       "      <td>0.00</td>\n",
       "      <td>0.00</td>\n",
       "      <td>0.00</td>\n",
       "      <td>0.00</td>\n",
       "      <td>0.00</td>\n",
       "      <td>INLAND</td>\n",
       "      <td>14999.0</td>\n",
       "      <td>0.0</td>\n",
       "    </tr>\n",
       "    <tr>\n",
       "      <th>2521</th>\n",
       "      <td>0.00</td>\n",
       "      <td>0.00</td>\n",
       "      <td>0.00</td>\n",
       "      <td>0.00</td>\n",
       "      <td>0.00</td>\n",
       "      <td>0.00</td>\n",
       "      <td>INLAND</td>\n",
       "      <td>14999.0</td>\n",
       "      <td>0.0</td>\n",
       "    </tr>\n",
       "  </tbody>\n",
       "</table>\n",
       "<p>20433 rows × 9 columns</p>\n",
       "</div>"
      ],
      "text/plain": [
       "          housing_median_age  total_rooms  total_bedrooms  population  \\\n",
       "House_ID                                                                \n",
       "8852                    1.00         0.50            0.00        0.25   \n",
       "10454                   0.25         0.00            0.00        0.00   \n",
       "5487                    0.50         0.75            1.00        0.50   \n",
       "16020                   1.00         0.25            0.00        0.00   \n",
       "16019                   1.00         0.50            0.25        0.25   \n",
       "...                      ...          ...             ...         ...   \n",
       "5887                    0.75         0.00            0.00        0.00   \n",
       "9188                    1.00         0.00            0.00        0.00   \n",
       "2799                    0.25         0.00            0.00        0.00   \n",
       "19802                   0.75         0.00            0.00        0.00   \n",
       "2521                    0.00         0.00            0.00        0.00   \n",
       "\n",
       "          households  median_income ocean_proximity  median_house_value  \\\n",
       "House_ID                                                                  \n",
       "8852            0.00           1.00       <1H OCEAN            500001.0   \n",
       "10454           0.00           0.25       <1H OCEAN            500001.0   \n",
       "5487            1.00           1.00       <1H OCEAN            500001.0   \n",
       "16020           0.00           1.00      NEAR OCEAN            500001.0   \n",
       "16019           0.25           1.00      NEAR OCEAN            500001.0   \n",
       "...              ...            ...             ...                 ...   \n",
       "5887            0.00           0.25       <1H OCEAN             17500.0   \n",
       "9188            0.00           0.75          INLAND             14999.0   \n",
       "2799            0.00           0.00          INLAND             14999.0   \n",
       "19802           0.00           0.00          INLAND             14999.0   \n",
       "2521            0.00           0.00          INLAND             14999.0   \n",
       "\n",
       "         MHV_category  \n",
       "House_ID               \n",
       "8852              1.0  \n",
       "10454             1.0  \n",
       "5487              1.0  \n",
       "16020             1.0  \n",
       "16019             1.0  \n",
       "...               ...  \n",
       "5887              0.0  \n",
       "9188              0.0  \n",
       "2799              0.0  \n",
       "19802             0.0  \n",
       "2521              0.0  \n",
       "\n",
       "[20433 rows x 9 columns]"
      ]
     },
     "execution_count": 17,
     "metadata": {},
     "output_type": "execute_result"
    }
   ],
   "source": [
    "df.sort_values(by='median_house_value', ascending=False)"
   ]
  },
  {
   "cell_type": "markdown",
   "id": "f0c88a41-530c-45b4-aefb-8f0d1f65e0bb",
   "metadata": {},
   "source": [
    "Here we can see the 5 most expensive and the 5 cheapest house blocks. The biggest difference seems to be in terms of total rooms."
   ]
  },
  {
   "cell_type": "markdown",
   "id": "5f43e0cf-0f96-43f5-9223-e019bb8e237a",
   "metadata": {},
   "source": [
    "To see it more clearly I will group on the 'MHV_category' column and aggregate on the rest of the numerical column (apart from the median price off course).<br> Then I'll make plots in matplotlib to visualize the results."
   ]
  },
  {
   "cell_type": "code",
   "execution_count": 18,
   "id": "7c996386-4f1e-47ca-a775-6d4eb15e2d5f",
   "metadata": {
    "tags": []
   },
   "outputs": [
    {
     "name": "stderr",
     "output_type": "stream",
     "text": [
      "C:\\Users\\mvdp1\\AppData\\Local\\Temp\\ipykernel_15980\\3160608220.py:1: FutureWarning: The default of observed=False is deprecated and will be changed to True in a future version of pandas. Pass observed=False to retain current behavior or observed=True to adopt the future default and silence this warning.\n",
      "  grouped_data = df.groupby(['MHV_category']).agg({\n"
     ]
    },
    {
     "data": {
      "image/png": "[encoded data removed]",
      "text/plain": [
       "<Figure size 1800x1200 with 6 Axes>"
      ]
     },
     "metadata": {},
     "output_type": "display_data"
    }
   ],
   "source": [
    "grouped_data = df.groupby(['MHV_category']).agg({\n",
    "    'housing_median_age': 'mean',  \n",
    "    'total_rooms': 'mean',  \t\t\t\t\t\n",
    "    'total_bedrooms': 'mean',     \n",
    "    'population': 'mean',\n",
    "    'households': 'mean',\n",
    "    'median_income': 'mean'\n",
    "}, observed=True).sort_values(by='MHV_category', ascending=False)\n",
    "\n",
    "fig, axes = plt.subplots(nrows=2, ncols=3, figsize=(18, 12))\n",
    "\n",
    "\n",
    "axes = axes.flatten()\n",
    "\n",
    "\n",
    "for i, (column, ax) in enumerate(zip(grouped_data.columns, axes)):\n",
    "    ax.plot(grouped_data.index, grouped_data[column], color='blue', marker='o')\n",
    "    ax.set_xlabel('MHV Category')\n",
    "    ax.set_ylabel('Mean Value')\n",
    "    ax.set_title(f'Mean {column} by MHV Category')\n",
    "    ax.tick_params(axis='x', rotation=45)\n",
    "    ax.grid(True)\n",
    "\n",
    "\n",
    "for j in range(len(grouped_data.columns), len(axes)):\n",
    "    fig.delaxes(axes[j])\n",
    "\n",
    "plt.tight_layout()\n",
    "plt.show()\n",
    "\n"
   ]
  },
  {
   "cell_type": "markdown",
   "id": "81577d9d-57af-426b-b41b-214384c2d24c",
   "metadata": {},
   "source": [
    "It looks like the most factors in this dataset are positively correlated with the house median price."
   ]
  },
  {
   "cell_type": "markdown",
   "id": "6582e537-fb84-4e83-9f97-d5243c472f51",
   "metadata": {
    "tags": []
   },
   "source": [
    "To be sure, we will now group on the columns individualy en then visualize the results.\n"
   ]
  },
  {
   "cell_type": "markdown",
   "id": "827885dc-d7e9-447d-935f-2e3554987683",
   "metadata": {
    "tags": []
   },
   "source": [
    "#### Factor 1: Housing Median Age"
   ]
  },
  {
   "cell_type": "code",
   "execution_count": 19,
   "id": "89a0cd09-b4cd-459a-917d-ae04fabc6284",
   "metadata": {
    "tags": []
   },
   "outputs": [
    {
     "data": {
      "text/html": [
       "<div>\n",
       "<style scoped>\n",
       "    .dataframe tbody tr th:only-of-type {\n",
       "        vertical-align: middle;\n",
       "    }\n",
       "\n",
       "    .dataframe tbody tr th {\n",
       "        vertical-align: top;\n",
       "    }\n",
       "\n",
       "    .dataframe thead th {\n",
       "        text-align: right;\n",
       "    }\n",
       "</style>\n",
       "<table border=\"1\" class=\"dataframe\">\n",
       "  <thead>\n",
       "    <tr style=\"text-align: right;\">\n",
       "      <th></th>\n",
       "      <th>median_house_value</th>\n",
       "    </tr>\n",
       "    <tr>\n",
       "      <th>housing_median_age</th>\n",
       "      <th></th>\n",
       "    </tr>\n",
       "  </thead>\n",
       "  <tbody>\n",
       "    <tr>\n",
       "      <th>1.00</th>\n",
       "      <td>228942.058073</td>\n",
       "    </tr>\n",
       "    <tr>\n",
       "      <th>0.75</th>\n",
       "      <td>207879.344766</td>\n",
       "    </tr>\n",
       "    <tr>\n",
       "      <th>0.50</th>\n",
       "      <td>204740.562165</td>\n",
       "    </tr>\n",
       "    <tr>\n",
       "      <th>0.25</th>\n",
       "      <td>202942.540885</td>\n",
       "    </tr>\n",
       "    <tr>\n",
       "      <th>0.00</th>\n",
       "      <td>193078.432025</td>\n",
       "    </tr>\n",
       "  </tbody>\n",
       "</table>\n",
       "</div>"
      ],
      "text/plain": [
       "                    median_house_value\n",
       "housing_median_age                    \n",
       "1.00                     228942.058073\n",
       "0.75                     207879.344766\n",
       "0.50                     204740.562165\n",
       "0.25                     202942.540885\n",
       "0.00                     193078.432025"
      ]
     },
     "execution_count": 19,
     "metadata": {},
     "output_type": "execute_result"
    }
   ],
   "source": [
    "group_by_median_age= df.groupby(['housing_median_age'], observed=False)['median_house_value'].mean()\n",
    "group_by_median_age.to_frame().sort_index(ascending=False)"
   ]
  },
  {
   "cell_type": "code",
   "execution_count": 20,
   "id": "e73c3d6a-4f94-489a-8606-ec8d4842b466",
   "metadata": {
    "tags": []
   },
   "outputs": [
    {
     "data": {
      "image/png": "[encoded data removed]",
      "text/plain": [
       "<Figure size 500x300 with 1 Axes>"
      ]
     },
     "metadata": {},
     "output_type": "display_data"
    }
   ],
   "source": [
    "\n",
    "plt.figure(figsize=(5, 3)) \n",
    "\n",
    "bar_positions = np.arange(len(group_by_median_age.index))\n",
    "\n",
    "plt.bar(bar_positions, group_by_median_age.values, color='blue', width=0.3)\n",
    "\n",
    "plt.xlabel('Median Age (percentile)')\n",
    "plt.ylabel('Mean Median House Value (USD)')\n",
    "plt.title('Mean Median House Value by Median Age')\n",
    "\n",
    "\n",
    "plt.xticks(bar_positions, group_by_median_age.index, rotation=45)\n",
    "\n",
    "plt.tight_layout()  \n",
    "\n",
    "plt.ylim(group_by_median_age.min()-5000, group_by_median_age.max()+5000)\n",
    "\n",
    "plt.show()\n"
   ]
  },
  {
   "cell_type": "markdown",
   "id": "8d9f0649-c3cf-425a-8d88-43c88c7d98c4",
   "metadata": {},
   "source": [
    "There seems to be a clear positive correlation between the median house age and median house value. I can't say thats in line with my expectations and logic in general. However I will assume these older houses are bigger in size. Castles for example are bot very old and expensive. "
   ]
  },
  {
   "cell_type": "markdown",
   "id": "7c2272f0-f46e-41bc-8dae-f49c37762531",
   "metadata": {},
   "source": [
    "#### Factor 2: Total Rooms"
   ]
  },
  {
   "cell_type": "code",
   "execution_count": 21,
   "id": "27ba4576-ae4b-4ffa-adfb-1b0accb17890",
   "metadata": {
    "tags": []
   },
   "outputs": [
    {
     "data": {
      "text/html": [
       "<div>\n",
       "<style scoped>\n",
       "    .dataframe tbody tr th:only-of-type {\n",
       "        vertical-align: middle;\n",
       "    }\n",
       "\n",
       "    .dataframe tbody tr th {\n",
       "        vertical-align: top;\n",
       "    }\n",
       "\n",
       "    .dataframe thead th {\n",
       "        text-align: right;\n",
       "    }\n",
       "</style>\n",
       "<table border=\"1\" class=\"dataframe\">\n",
       "  <thead>\n",
       "    <tr style=\"text-align: right;\">\n",
       "      <th></th>\n",
       "      <th>median_house_value</th>\n",
       "    </tr>\n",
       "    <tr>\n",
       "      <th>total_rooms</th>\n",
       "      <th></th>\n",
       "    </tr>\n",
       "  </thead>\n",
       "  <tbody>\n",
       "    <tr>\n",
       "      <th>1.00</th>\n",
       "      <td>235813.042861</td>\n",
       "    </tr>\n",
       "    <tr>\n",
       "      <th>0.75</th>\n",
       "      <td>223739.878610</td>\n",
       "    </tr>\n",
       "    <tr>\n",
       "      <th>0.50</th>\n",
       "      <td>206273.567230</td>\n",
       "    </tr>\n",
       "    <tr>\n",
       "      <th>0.25</th>\n",
       "      <td>193149.170374</td>\n",
       "    </tr>\n",
       "    <tr>\n",
       "      <th>0.00</th>\n",
       "      <td>175414.798289</td>\n",
       "    </tr>\n",
       "  </tbody>\n",
       "</table>\n",
       "</div>"
      ],
      "text/plain": [
       "             median_house_value\n",
       "total_rooms                    \n",
       "1.00              235813.042861\n",
       "0.75              223739.878610\n",
       "0.50              206273.567230\n",
       "0.25              193149.170374\n",
       "0.00              175414.798289"
      ]
     },
     "execution_count": 21,
     "metadata": {},
     "output_type": "execute_result"
    }
   ],
   "source": [
    "group_by_total_rooms= df.groupby(['total_rooms'], observed=False)['median_house_value'].mean()\n",
    "group_by_total_rooms.to_frame().sort_index(ascending=False)"
   ]
  },
  {
   "cell_type": "code",
   "execution_count": 22,
   "id": "f57c9c87-74be-4638-b322-b60df61ac81b",
   "metadata": {
    "tags": []
   },
   "outputs": [
    {
     "data": {
      "image/png": "[encoded data removed]",
      "text/plain": [
       "<Figure size 500x300 with 1 Axes>"
      ]
     },
     "metadata": {},
     "output_type": "display_data"
    }
   ],
   "source": [
    "\n",
    "plt.figure(figsize=(5, 3)) \n",
    "\n",
    "bar_positions = np.arange(len(group_by_total_rooms.index))\n",
    "\n",
    "plt.bar(bar_positions, group_by_total_rooms.values, color='#800000', width=0.3)\n",
    "\n",
    "plt.xlabel('Total Rooms (percentile)')\n",
    "plt.ylabel('Mean Median House Value (USD)')\n",
    "plt.title('Mean Median House Value by Total Rooms')\n",
    "\n",
    "\n",
    "plt.xticks(bar_positions, group_by_total_rooms.index, rotation=45)\n",
    "\n",
    "plt.tight_layout()  \n",
    "\n",
    "plt.ylim(group_by_total_rooms.min()-5000, group_by_total_rooms.max()+5000)\n",
    "\n",
    "plt.show()\n"
   ]
  },
  {
   "cell_type": "markdown",
   "id": "ebab923b-65d4-4776-8026-0e6762aeb8b4",
   "metadata": {
    "tags": []
   },
   "source": [
    "Although very obvious, the house value is clearly positively correlated with the number of rooms\n"
   ]
  },
  {
   "cell_type": "markdown",
   "id": "0190ee26-7b9c-431b-b3a0-17e47fd3a62c",
   "metadata": {
    "tags": []
   },
   "source": [
    "#### Factor 3: Population"
   ]
  },
  {
   "cell_type": "code",
   "execution_count": 23,
   "id": "90f25b44-56e9-469a-a4fa-5f0d29495943",
   "metadata": {
    "tags": []
   },
   "outputs": [],
   "source": [
    "group_by_population= df.groupby(['population'], observed=False)['median_house_value'].mean()\n"
   ]
  },
  {
   "cell_type": "code",
   "execution_count": 24,
   "id": "e2d7c573-0adb-483f-a3af-147a4a23bee4",
   "metadata": {
    "tags": []
   },
   "outputs": [
    {
     "data": {
      "text/html": [
       "<div>\n",
       "<style scoped>\n",
       "    .dataframe tbody tr th:only-of-type {\n",
       "        vertical-align: middle;\n",
       "    }\n",
       "\n",
       "    .dataframe tbody tr th {\n",
       "        vertical-align: top;\n",
       "    }\n",
       "\n",
       "    .dataframe thead th {\n",
       "        text-align: right;\n",
       "    }\n",
       "</style>\n",
       "<table border=\"1\" class=\"dataframe\">\n",
       "  <thead>\n",
       "    <tr style=\"text-align: right;\">\n",
       "      <th></th>\n",
       "      <th>median_house_value</th>\n",
       "    </tr>\n",
       "    <tr>\n",
       "      <th>population</th>\n",
       "      <th></th>\n",
       "    </tr>\n",
       "  </thead>\n",
       "  <tbody>\n",
       "    <tr>\n",
       "      <th>1.00</th>\n",
       "      <td>201334.606951</td>\n",
       "    </tr>\n",
       "    <tr>\n",
       "      <th>0.75</th>\n",
       "      <td>201304.536221</td>\n",
       "    </tr>\n",
       "    <tr>\n",
       "      <th>0.50</th>\n",
       "      <td>205848.043169</td>\n",
       "    </tr>\n",
       "    <tr>\n",
       "      <th>0.25</th>\n",
       "      <td>213604.847093</td>\n",
       "    </tr>\n",
       "    <tr>\n",
       "      <th>0.00</th>\n",
       "      <td>212209.364059</td>\n",
       "    </tr>\n",
       "  </tbody>\n",
       "</table>\n",
       "</div>"
      ],
      "text/plain": [
       "            median_house_value\n",
       "population                    \n",
       "1.00             201334.606951\n",
       "0.75             201304.536221\n",
       "0.50             205848.043169\n",
       "0.25             213604.847093\n",
       "0.00             212209.364059"
      ]
     },
     "execution_count": 24,
     "metadata": {},
     "output_type": "execute_result"
    }
   ],
   "source": [
    "group_by_population.to_frame().sort_index(ascending=False)"
   ]
  },
  {
   "cell_type": "code",
   "execution_count": 25,
   "id": "0d8b3aa4-4a9d-4159-a1cb-be2a0cde435b",
   "metadata": {
    "tags": []
   },
   "outputs": [
    {
     "data": {
      "image/png": "[encoded data removed]",
      "text/plain": [
       "<Figure size 500x300 with 1 Axes>"
      ]
     },
     "metadata": {},
     "output_type": "display_data"
    }
   ],
   "source": [
    "plt.figure(figsize=(5, 3)) \n",
    "\n",
    "bar_positions = np.arange(len(group_by_population.index))\n",
    "\n",
    "plt.bar(bar_positions, group_by_population.values, color='green', width=0.3)\n",
    "\n",
    "plt.xlabel('Population (percentile)')\n",
    "plt.ylabel('Mean Median House Value (USD)')\n",
    "plt.title('Mean Median House Value by Population')\n",
    "\n",
    "\n",
    "plt.xticks(bar_positions, group_by_population.index, rotation=45)\n",
    "\n",
    "plt.tight_layout()  \n",
    "\n",
    "plt.ylim(group_by_population.min()-5000, group_by_population.max()+5000)\n",
    "\n",
    "plt.show()"
   ]
  },
  {
   "cell_type": "markdown",
   "id": "98de6b2c-62fe-4c53-8ba9-30d86608b719",
   "metadata": {},
   "source": [
    "This chart shows that the house valuations are higher on average in more densely populated areas. That doesn't suprise me one bit because bigger cities are generally more expensive to live because the demand is higher due to the larger job market and services that are available."
   ]
  },
  {
   "cell_type": "markdown",
   "id": "21c90461-16d2-4984-9775-a4cd537a5f55",
   "metadata": {
    "tags": []
   },
   "source": [
    "#### Factor 4: Households"
   ]
  },
  {
   "cell_type": "code",
   "execution_count": 26,
   "id": "da9367fa-9866-4428-b3bf-024e79976ff7",
   "metadata": {
    "tags": []
   },
   "outputs": [
    {
     "data": {
      "text/html": [
       "<div>\n",
       "<style scoped>\n",
       "    .dataframe tbody tr th:only-of-type {\n",
       "        vertical-align: middle;\n",
       "    }\n",
       "\n",
       "    .dataframe tbody tr th {\n",
       "        vertical-align: top;\n",
       "    }\n",
       "\n",
       "    .dataframe thead th {\n",
       "        text-align: right;\n",
       "    }\n",
       "</style>\n",
       "<table border=\"1\" class=\"dataframe\">\n",
       "  <thead>\n",
       "    <tr style=\"text-align: right;\">\n",
       "      <th></th>\n",
       "      <th>median_house_value</th>\n",
       "    </tr>\n",
       "    <tr>\n",
       "      <th>households</th>\n",
       "      <th></th>\n",
       "    </tr>\n",
       "  </thead>\n",
       "  <tbody>\n",
       "    <tr>\n",
       "      <th>1.00</th>\n",
       "      <td>220675.080344</td>\n",
       "    </tr>\n",
       "    <tr>\n",
       "      <th>0.75</th>\n",
       "      <td>209807.477073</td>\n",
       "    </tr>\n",
       "    <tr>\n",
       "      <th>0.50</th>\n",
       "      <td>207911.249506</td>\n",
       "    </tr>\n",
       "    <tr>\n",
       "      <th>0.25</th>\n",
       "      <td>201265.878559</td>\n",
       "    </tr>\n",
       "    <tr>\n",
       "      <th>0.00</th>\n",
       "      <td>194793.867138</td>\n",
       "    </tr>\n",
       "  </tbody>\n",
       "</table>\n",
       "</div>"
      ],
      "text/plain": [
       "            median_house_value\n",
       "households                    \n",
       "1.00             220675.080344\n",
       "0.75             209807.477073\n",
       "0.50             207911.249506\n",
       "0.25             201265.878559\n",
       "0.00             194793.867138"
      ]
     },
     "execution_count": 26,
     "metadata": {},
     "output_type": "execute_result"
    }
   ],
   "source": [
    "group_by_households= df.groupby(['households'], observed=False)['median_house_value'].mean()\n",
    "\n",
    "group_by_households.to_frame().sort_index(ascending=False)"
   ]
  },
  {
   "cell_type": "code",
   "execution_count": 27,
   "id": "6a2e8815-c34d-47f3-a537-adbf878f92e0",
   "metadata": {
    "tags": []
   },
   "outputs": [
    {
     "data": {
      "image/png": "[encoded data removed]",
      "text/plain": [
       "<Figure size 500x300 with 1 Axes>"
      ]
     },
     "metadata": {},
     "output_type": "display_data"
    }
   ],
   "source": [
    "plt.figure(figsize=(5, 3)) \n",
    "\n",
    "bar_positions = np.arange(len(group_by_households.index))\n",
    "\n",
    "plt.bar(bar_positions, group_by_households.values, color='darkgoldenrod', width=0.3)\n",
    "\n",
    "plt.xlabel('Household Count (percentile)')\n",
    "plt.ylabel('Mean Median House Value (USD)')\n",
    "plt.title('Mean Median House Value by Household Count')\n",
    "\n",
    "plt.xticks(bar_positions, group_by_households.index, rotation=45)\n",
    "\n",
    "\n",
    "plt.ylim(group_by_households.min()-5000, group_by_households.max()+5000)\n",
    "\n",
    "plt.tight_layout()  \n",
    "\n",
    "plt.show()\n"
   ]
  },
  {
   "cell_type": "markdown",
   "id": "69bd424c-9c6e-4f82-a04d-1815b7dee03d",
   "metadata": {
    "tags": []
   },
   "source": [
    "According to the dataset a bigger amount of households is associated with higher house valuations. "
   ]
  },
  {
   "cell_type": "markdown",
   "id": "be4a3ba2-8a63-4a45-bdf5-6cd8e991e2c9",
   "metadata": {},
   "source": [
    "#### Factor 5: Mediaan inkomen"
   ]
  },
  {
   "cell_type": "code",
   "execution_count": 28,
   "id": "7384b8b6-e7e2-454f-a14a-85031b72bfa7",
   "metadata": {
    "tags": []
   },
   "outputs": [
    {
     "data": {
      "text/html": [
       "<div>\n",
       "<style scoped>\n",
       "    .dataframe tbody tr th:only-of-type {\n",
       "        vertical-align: middle;\n",
       "    }\n",
       "\n",
       "    .dataframe tbody tr th {\n",
       "        vertical-align: top;\n",
       "    }\n",
       "\n",
       "    .dataframe thead th {\n",
       "        text-align: right;\n",
       "    }\n",
       "</style>\n",
       "<table border=\"1\" class=\"dataframe\">\n",
       "  <thead>\n",
       "    <tr style=\"text-align: right;\">\n",
       "      <th></th>\n",
       "      <th>median_house_value</th>\n",
       "    </tr>\n",
       "    <tr>\n",
       "      <th>median_income</th>\n",
       "      <th></th>\n",
       "    </tr>\n",
       "  </thead>\n",
       "  <tbody>\n",
       "    <tr>\n",
       "      <th>1.00</th>\n",
       "      <td>335162.841693</td>\n",
       "    </tr>\n",
       "    <tr>\n",
       "      <th>0.75</th>\n",
       "      <td>229711.295126</td>\n",
       "    </tr>\n",
       "    <tr>\n",
       "      <th>0.50</th>\n",
       "      <td>194165.906846</td>\n",
       "    </tr>\n",
       "    <tr>\n",
       "      <th>0.25</th>\n",
       "      <td>156968.410671</td>\n",
       "    </tr>\n",
       "    <tr>\n",
       "      <th>0.00</th>\n",
       "      <td>118333.084659</td>\n",
       "    </tr>\n",
       "  </tbody>\n",
       "</table>\n",
       "</div>"
      ],
      "text/plain": [
       "               median_house_value\n",
       "median_income                    \n",
       "1.00                335162.841693\n",
       "0.75                229711.295126\n",
       "0.50                194165.906846\n",
       "0.25                156968.410671\n",
       "0.00                118333.084659"
      ]
     },
     "execution_count": 28,
     "metadata": {},
     "output_type": "execute_result"
    }
   ],
   "source": [
    "group_by_median_income= df.groupby(['median_income'], observed=False)['median_house_value'].mean()\n",
    "group_by_median_income.to_frame().sort_index(ascending=False)"
   ]
  },
  {
   "cell_type": "code",
   "execution_count": 29,
   "id": "62341b25-d6eb-4cd6-bb1b-ec456b24d431",
   "metadata": {
    "tags": []
   },
   "outputs": [
    {
     "data": {
      "image/png": "[encoded data removed]",
      "text/plain": [
       "<Figure size 500x300 with 1 Axes>"
      ]
     },
     "metadata": {},
     "output_type": "display_data"
    }
   ],
   "source": [
    "plt.figure(figsize=(5, 3)) \n",
    "\n",
    "bar_positions = np.arange(len(group_by_median_income.index))\n",
    "\n",
    "plt.bar(bar_positions, group_by_median_income.values, color='#FF9C00', width=0.3)\n",
    "\n",
    "plt.xlabel('Median Income (percentile)')\n",
    "plt.ylabel('Mean Median House Value (USD)')\n",
    "plt.title('Mean Median House Value by Median Income')\n",
    "\n",
    "plt.xticks(bar_positions, group_by_median_income.index, rotation=45)\n",
    "\n",
    "\n",
    "plt.ylim(group_by_median_income.min()-5000, group_by_median_income.max()+5000)\n",
    "\n",
    "plt.tight_layout()  \n",
    "\n",
    "plt.show()"
   ]
  },
  {
   "cell_type": "markdown",
   "id": "c560603a-7e64-4a84-92bf-a24183dbed14",
   "metadata": {},
   "source": [
    "Although it should come as no suprise, the graph clearly shows a significant price difference between the poor and rich neighborhoods.\n",
    "Froma all factors till now this is the one with the biggest impact by far. These house valuations in the richest areas are 3 fold higher then those in the poorest areas.\n"
   ]
  },
  {
   "cell_type": "markdown",
   "id": "a8052311-23b1-48e4-bdb8-893cb11bd54a",
   "metadata": {},
   "source": [
    "#### Factor 6: ocean_proximity\t"
   ]
  },
  {
   "cell_type": "code",
   "execution_count": 30,
   "id": "983468e6-c813-48ca-8e29-6188fa91138b",
   "metadata": {
    "tags": []
   },
   "outputs": [
    {
     "data": {
      "text/html": [
       "<div>\n",
       "<style scoped>\n",
       "    .dataframe tbody tr th:only-of-type {\n",
       "        vertical-align: middle;\n",
       "    }\n",
       "\n",
       "    .dataframe tbody tr th {\n",
       "        vertical-align: top;\n",
       "    }\n",
       "\n",
       "    .dataframe thead th {\n",
       "        text-align: right;\n",
       "    }\n",
       "</style>\n",
       "<table border=\"1\" class=\"dataframe\">\n",
       "  <thead>\n",
       "    <tr style=\"text-align: right;\">\n",
       "      <th></th>\n",
       "      <th>median_house_value</th>\n",
       "    </tr>\n",
       "    <tr>\n",
       "      <th>ocean_proximity</th>\n",
       "      <th></th>\n",
       "    </tr>\n",
       "  </thead>\n",
       "  <tbody>\n",
       "    <tr>\n",
       "      <th>INLAND</th>\n",
       "      <td>124896.863147</td>\n",
       "    </tr>\n",
       "    <tr>\n",
       "      <th>&lt;1H OCEAN</th>\n",
       "      <td>240267.990812</td>\n",
       "    </tr>\n",
       "    <tr>\n",
       "      <th>NEAR OCEAN</th>\n",
       "      <td>249042.355023</td>\n",
       "    </tr>\n",
       "    <tr>\n",
       "      <th>NEAR BAY</th>\n",
       "      <td>259279.292070</td>\n",
       "    </tr>\n",
       "    <tr>\n",
       "      <th>ISLAND</th>\n",
       "      <td>380440.000000</td>\n",
       "    </tr>\n",
       "  </tbody>\n",
       "</table>\n",
       "</div>"
      ],
      "text/plain": [
       "                 median_house_value\n",
       "ocean_proximity                    \n",
       "INLAND                124896.863147\n",
       "<1H OCEAN             240267.990812\n",
       "NEAR OCEAN            249042.355023\n",
       "NEAR BAY              259279.292070\n",
       "ISLAND                380440.000000"
      ]
     },
     "execution_count": 30,
     "metadata": {},
     "output_type": "execute_result"
    }
   ],
   "source": [
    "group_by_ocean_proximity= df.groupby(['ocean_proximity'], observed=False)['median_house_value'].mean()\n",
    "group_by_ocean_proximity.to_frame().sort_values(by= 'median_house_value', ascending=True)"
   ]
  },
  {
   "cell_type": "code",
   "execution_count": 31,
   "id": "263f6932-03b0-40c5-a9b5-a1a8af01bb45",
   "metadata": {
    "tags": []
   },
   "outputs": [
    {
     "data": {
      "image/png": "[encoded data removed]",
      "text/plain": [
       "<Figure size 500x300 with 1 Axes>"
      ]
     },
     "metadata": {},
     "output_type": "display_data"
    }
   ],
   "source": [
    "plt.figure(figsize=(5, 3)) \n",
    "\n",
    "bar_positions = np.arange(len(group_by_ocean_proximity.index))\n",
    "\n",
    "plt.bar(bar_positions,group_by_ocean_proximity.values, color='#800080', width=0.3)\n",
    "\n",
    "plt.xlabel('Ocean Proximity (percentile)')\n",
    "plt.ylabel('Mean Median House Value (USD)')\n",
    "plt.title('Mean Median House Value by Ocean Proximity')\n",
    "\n",
    "plt.xticks(bar_positions, group_by_ocean_proximity.index, rotation=45)\n",
    "\n",
    "\n",
    "plt.ylim(group_by_ocean_proximity.min()-5000, group_by_ocean_proximity.max()+5000)\n",
    "\n",
    "plt.tight_layout()  \n",
    "\n",
    "plt.show()"
   ]
  },
  {
   "cell_type": "markdown",
   "id": "41de372c-a939-4b1c-a1d4-61b8811c0ef6",
   "metadata": {
    "tags": []
   },
   "source": [
    "The chart shows that the house valuations are much lower inland then near the ocean . <br> Areas located on islands are the most expensive with an average valuation of almost 400.000 USD. "
   ]
  },
  {
   "cell_type": "markdown",
   "id": "4985a67e-fd24-4e2f-92ea-3bab840df664",
   "metadata": {},
   "source": [
    " "
   ]
  },
  {
   "cell_type": "markdown",
   "id": "0ba18b44-0595-4a45-9c9a-1e65e8306f1c",
   "metadata": {},
   "source": [
    "#### Export"
   ]
  },
  {
   "cell_type": "markdown",
   "id": "39d1bbbc-8b56-4e4e-9dd4-7080405a49d6",
   "metadata": {},
   "source": [
    "To finish this off I'm going to export the dataframe to a csv file, so I can load it in powerbi to make better visualisations."
   ]
  },
  {
   "cell_type": "code",
   "execution_count": 32,
   "id": "8a0e1fc2-5a63-4476-9b03-96f550548cda",
   "metadata": {
    "tags": []
   },
   "outputs": [],
   "source": [
    "df.to_csv('California_housing_prices.csv',index=True)"
   ]
  },
  {
   "cell_type": "markdown",
   "id": "3c1c7ae3-c4a3-4f07-a04e-9289681bdf38",
   "metadata": {},
   "source": [
    " "
   ]
  },
  {
   "cell_type": "markdown",
   "id": "671b2641-2273-441d-a558-7a1fa2ca2a64",
   "metadata": {},
   "source": [
    "### Conclusion"
   ]
  },
  {
   "cell_type": "markdown",
   "id": "67c3313b-e349-45ce-9a0e-c0fd984f0917",
   "metadata": {},
   "source": [
    "To recap:\n",
    "\n",
    "According to this dataset, housing age, number of rooms, number of bedrooms, population density, number of households, median income, and proximity to the ocean are all positively correlated with higher house prices.\n",
    "\n"
   ]
  },
  {
   "cell_type": "code",
   "execution_count": null,
   "id": "ece69e93-9524-48ca-8808-c7eb7e0cf19c",
   "metadata": {},
   "outputs": [],
   "source": []
  }
 ],
 "metadata": {
  "kernelspec": {
   "display_name": "Python 3 (ipykernel)",
   "language": "python",
   "name": "python3"
  },
  "language_info": {
   "codemirror_mode": {
    "name": "ipython",
    "version": 3
   },
   "file_extension": ".py",
   "mimetype": "text/x-python",
   "name": "python",
   "nbconvert_exporter": "python",
   "pygments_lexer": "ipython3",
   "version": "3.9.18"
  }
 },
 "nbformat": 4,
 "nbformat_minor": 5
}
